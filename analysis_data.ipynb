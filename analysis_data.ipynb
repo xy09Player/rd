{
 "cells": [
  {
   "cell_type": "code",
   "execution_count": 1,
   "metadata": {},
   "outputs": [
    {
     "name": "stderr",
     "output_type": "stream",
     "text": [
      "Building prefix dict from the default dictionary ...\n",
      "Dumping model to file cache /tmp/jieba.cache\n",
      "Loading model cost 0.533 seconds.\n",
      "Prefix dict has been built succesfully.\n"
     ]
    }
   ],
   "source": [
    "import torch\n",
    "import pandas as pd\n",
    "from preprocess_data import *\n",
    "import utils"
   ]
  },
  {
   "cell_type": "code",
   "execution_count": 2,
   "metadata": {},
   "outputs": [
    {
     "name": "stdout",
     "output_type": "stream",
     "text": [
      "organize_data, size:198618\n"
     ]
    }
   ],
   "source": [
    "df = organize_data('data_gen/merge.json')"
   ]
  },
  {
   "cell_type": "code",
   "execution_count": 3,
   "metadata": {},
   "outputs": [],
   "source": [
    "df = df.sample(5000)"
   ]
  },
  {
   "cell_type": "code",
   "execution_count": 4,
   "metadata": {},
   "outputs": [
    {
     "name": "stdout",
     "output_type": "stream",
     "text": [
      "deal data for train/val/test(空值), num:4990/5000, ratio:0.9980\n"
     ]
    }
   ],
   "source": [
    "df = deal_data_for_train(df)"
   ]
  },
  {
   "cell_type": "code",
   "execution_count": 5,
   "metadata": {
    "collapsed": true
   },
   "outputs": [],
   "source": [
    "df = df[df['flag_null']]"
   ]
  },
  {
   "cell_type": "code",
   "execution_count": 6,
   "metadata": {},
   "outputs": [
    {
     "name": "stdout",
     "output_type": "stream",
     "text": [
      "答案存在比例：0.9729\n",
      "截取比例：0.9661\n",
      "截取准确率：0.9930\n",
      "max length: 500\n",
      "min length: 22\n",
      "mean length:289\n",
      "median length:290\n"
     ]
    }
   ],
   "source": [
    "df = shorten_content_all(df, config.max_len)"
   ]
  },
  {
   "cell_type": "code",
   "execution_count": 7,
   "metadata": {},
   "outputs": [
    {
     "name": "stdout",
     "output_type": "stream",
     "text": [
      "answer generation accuracy(all): 0.9828\n",
      "wrong split: 0.0172\n"
     ]
    }
   ],
   "source": [
    "df = build_answer_range(df)"
   ]
  },
  {
   "cell_type": "code",
   "execution_count": 46,
   "metadata": {
    "collapsed": true
   },
   "outputs": [],
   "source": [
    "df = df[df['answer_start'] == -1]\n",
    "df = df[df['answer_end'] == -1]"
   ]
  },
  {
   "cell_type": "code",
   "execution_count": 58,
   "metadata": {},
   "outputs": [
    {
     "data": {
      "text/html": [
       "<div>\n",
       "<style>\n",
       "    .dataframe thead tr:only-child th {\n",
       "        text-align: right;\n",
       "    }\n",
       "\n",
       "    .dataframe thead th {\n",
       "        text-align: left;\n",
       "    }\n",
       "\n",
       "    .dataframe tbody tr th {\n",
       "        vertical-align: top;\n",
       "    }\n",
       "</style>\n",
       "<table border=\"1\" class=\"dataframe\">\n",
       "  <thead>\n",
       "    <tr style=\"text-align: right;\">\n",
       "      <th></th>\n",
       "      <th>article_id</th>\n",
       "      <th>article_type</th>\n",
       "      <th>article_title</th>\n",
       "      <th>article_content</th>\n",
       "      <th>question_id</th>\n",
       "      <th>article_question</th>\n",
       "      <th>article_answer</th>\n",
       "      <th>question_type</th>\n",
       "      <th>title</th>\n",
       "      <th>content</th>\n",
       "      <th>question</th>\n",
       "      <th>answer</th>\n",
       "      <th>flag_null</th>\n",
       "      <th>shorten_content</th>\n",
       "      <th>is_in</th>\n",
       "      <th>len</th>\n",
       "      <th>answer_start</th>\n",
       "      <th>answer_end</th>\n",
       "    </tr>\n",
       "  </thead>\n",
       "  <tbody>\n",
       "    <tr>\n",
       "      <th>125420</th>\n",
       "      <td>41667</td>\n",
       "      <td>防务快讯</td>\n",
       "      <td>日本防卫省透露选定F-35作为新一代主力战机</td>\n",
       "      <td>美国研制的最新型F-35A战机降落环球时报特约记者林肖磊报道日本多名防卫省和自卫队消息人士2...</td>\n",
       "      <td>0f474e5c-8e64-446c-a5a5-4c408d576942</td>\n",
       "      <td>有观点认为每架约多少日元的购买费和信息费很有可能会更高</td>\n",
       "      <td>90亿</td>\n",
       "      <td>数值型问题</td>\n",
       "      <td>日本防卫省透露选定F-35作为新一代主力战机</td>\n",
       "      <td>美国研制的最新型F-35A战机降落环球时报特约记者林肖磊报道日本多名防卫省和自卫队消息人士2...</td>\n",
       "      <td>有观点认为每架约多少日元的购买费和信息费很有可能会更高</td>\n",
       "      <td>90亿</td>\n",
       "      <td>True</td>\n",
       "      <td>美国研制的最新型F-35A战机降落环球时报特约记者林肖磊报道日本多名防卫省和自卫队消息人士2...</td>\n",
       "      <td>True</td>\n",
       "      <td>319</td>\n",
       "      <td>-1.0</td>\n",
       "      <td>-1.0</td>\n",
       "    </tr>\n",
       "  </tbody>\n",
       "</table>\n",
       "</div>"
      ],
      "text/plain": [
       "       article_id article_type           article_title  \\\n",
       "125420      41667         防务快讯  日本防卫省透露选定F-35作为新一代主力战机   \n",
       "\n",
       "                                          article_content  \\\n",
       "125420  美国研制的最新型F-35A战机降落环球时报特约记者林肖磊报道日本多名防卫省和自卫队消息人士2...   \n",
       "\n",
       "                                 question_id             article_question  \\\n",
       "125420  0f474e5c-8e64-446c-a5a5-4c408d576942  有观点认为每架约多少日元的购买费和信息费很有可能会更高   \n",
       "\n",
       "       article_answer question_type                   title  \\\n",
       "125420            90亿         数值型问题  日本防卫省透露选定F-35作为新一代主力战机   \n",
       "\n",
       "                                                  content  \\\n",
       "125420  美国研制的最新型F-35A战机降落环球时报特约记者林肖磊报道日本多名防卫省和自卫队消息人士2...   \n",
       "\n",
       "                           question answer  flag_null  \\\n",
       "125420  有观点认为每架约多少日元的购买费和信息费很有可能会更高    90亿       True   \n",
       "\n",
       "                                          shorten_content  is_in  len  \\\n",
       "125420  美国研制的最新型F-35A战机降落环球时报特约记者林肖磊报道日本多名防卫省和自卫队消息人士2...   True  319   \n",
       "\n",
       "        answer_start  answer_end  \n",
       "125420          -1.0        -1.0  "
      ]
     },
     "execution_count": 58,
     "metadata": {},
     "output_type": "execute_result"
    }
   ],
   "source": [
    "d = df.sample()\n",
    "d"
   ]
  },
  {
   "cell_type": "code",
   "execution_count": 56,
   "metadata": {},
   "outputs": [],
   "source": [
    "import jieba"
   ]
  },
  {
   "cell_type": "code",
   "execution_count": 59,
   "metadata": {},
   "outputs": [
    {
     "data": {
      "text/plain": [
       "'美国研制的最新型F-35A战机降落环球时报特约记者林肖磊报道日本多名防卫省和自卫队消息人士22日透露，防卫省计划选定F-35战斗机作为航空自卫队新一代主力战斗机机型。日本共同社就此发表文章称，日本考虑将F-35作为下一代主力战斗机是出于安保方面的担忧，因为中国的航空战力已经开始进入到太平洋海域，在东北亚处于优势地位。文章称，努力实现军事近代化的中国国防部明确提出要将空军从防空型转换为攻击和防御兼备。中国开发出能和美国F-16性能匹敌的歼-10和空中预警机(AWACS)等，充实了空军装备。日本防卫省相关人士强调必须具备不易被雷达捕捉到的隐形性能。共同社称，但是F-35还在研发中，日本必须通过引进F-15改良型等来代替使用寿命将尽的F-4。F-35属于共同研发，参与研发的国家将优先购买及获取信息。有观点认为每架约90亿日元的购买费和信息费很有可能会更高。虽然日本航空自卫队内部还有人强烈要求将最新锐隐形战斗机F-22作为下一代主力战斗机，但是美国对该机型继续禁止出口，引进F-22的可能性非常低。文章认为，采用具有隐形性能的F-35可以说是次善之策。但是仍在开发中的试验引擎在性能评价试验中受损，很多人担心F-35的开发前景，不能否认最后的决定还充满曲折。环球网'"
      ]
     },
     "execution_count": 59,
     "metadata": {},
     "output_type": "execute_result"
    }
   ],
   "source": [
    "d.article_content.values[0]"
   ]
  },
  {
   "cell_type": "code",
   "execution_count": 60,
   "metadata": {},
   "outputs": [
    {
     "data": {
      "text/plain": [
       "['有',\n",
       " '观点',\n",
       " '认为',\n",
       " '每架',\n",
       " '约',\n",
       " '90',\n",
       " '亿日元',\n",
       " '的',\n",
       " '购买',\n",
       " '费',\n",
       " '和',\n",
       " '信息费',\n",
       " '很',\n",
       " '有',\n",
       " '可能',\n",
       " '会',\n",
       " '更',\n",
       " '高']"
      ]
     },
     "execution_count": 60,
     "metadata": {},
     "output_type": "execute_result"
    }
   ],
   "source": [
    "p = '有观点认为每架约90亿日元的购买费和信息费很有可能会更高'\n",
    "jieba.lcut(p)"
   ]
  },
  {
   "cell_type": "code",
   "execution_count": null,
   "metadata": {
    "collapsed": true
   },
   "outputs": [],
   "source": [
    "a = '美'"
   ]
  },
  {
   "cell_type": "code",
   "execution_count": null,
   "metadata": {
    "collapsed": true
   },
   "outputs": [],
   "source": []
  },
  {
   "cell_type": "code",
   "execution_count": null,
   "metadata": {
    "collapsed": true
   },
   "outputs": [],
   "source": []
  },
  {
   "cell_type": "code",
   "execution_count": null,
   "metadata": {
    "collapsed": true
   },
   "outputs": [],
   "source": []
  },
  {
   "cell_type": "code",
   "execution_count": null,
   "metadata": {
    "collapsed": true
   },
   "outputs": [],
   "source": []
  },
  {
   "cell_type": "code",
   "execution_count": null,
   "metadata": {
    "collapsed": true
   },
   "outputs": [],
   "source": []
  }
 ],
 "metadata": {
  "kernelspec": {
   "display_name": "Python 3",
   "language": "python",
   "name": "python3"
  },
  "language_info": {
   "codemirror_mode": {
    "name": "ipython",
    "version": 3
   },
   "file_extension": ".py",
   "mimetype": "text/x-python",
   "name": "python",
   "nbconvert_exporter": "python",
   "pygments_lexer": "ipython3",
   "version": "3.6.2"
  }
 },
 "nbformat": 4,
 "nbformat_minor": 2
}

{
 "cells": [
  {
   "cell_type": "code",
   "execution_count": 1,
   "metadata": {},
   "outputs": [
    {
     "name": "stderr",
     "output_type": "stream",
     "text": [
      "Building prefix dict from the default dictionary ...\n",
      "Dumping model to file cache /tmp/jieba.cache\n",
      "Loading model cost 0.533 seconds.\n",
      "Prefix dict has been built succesfully.\n"
     ]
    }
   ],
   "source": [
    "import json\n",
    "from rouge import Rouge\n",
    "import pandas as pd\n",
    "import numpy as np\n",
    "import copy\n",
    "import os\n",
    "from data_pre import title_question\n",
    "from data_pre import clean_data\n",
    "import utils\n",
    "import pickle\n",
    "import time\n",
    "import sys\n",
    "import gensim\n",
    "from config import config_base\n",
    "from preprocess_data import *\n",
    "\n",
    "config = config_base.config"
   ]
  },
  {
   "cell_type": "code",
   "execution_count": 5,
   "metadata": {},
   "outputs": [
    {
     "name": "stdout",
     "output_type": "stream",
     "text": [
      "organize_data, size:97997\n"
     ]
    }
   ],
   "source": [
    "df = organize_data([config.data_1])\n",
    "df = df[:5000]"
   ]
  },
  {
   "cell_type": "code",
   "execution_count": 6,
   "metadata": {},
   "outputs": [
    {
     "name": "stdout",
     "output_type": "stream",
     "text": [
      "deal data for train/val/test(空值), num:5000/5000, ratio:1.0000\n"
     ]
    }
   ],
   "source": [
    "df = deal_data_for_train(df)"
   ]
  },
  {
   "cell_type": "code",
   "execution_count": 7,
   "metadata": {},
   "outputs": [
    {
     "name": "stdout",
     "output_type": "stream",
     "text": [
      "答案存在比例：0.9790\n",
      "截取比例：0.9738\n",
      "截取准确率：0.9947\n",
      "max length: 500\n",
      "min length: 37\n",
      "mean length:278\n",
      "median length:269\n"
     ]
    }
   ],
   "source": [
    "df = shorten_content_all(df, config.max_len)"
   ]
  },
  {
   "cell_type": "code",
   "execution_count": 8,
   "metadata": {},
   "outputs": [
    {
     "name": "stdout",
     "output_type": "stream",
     "text": [
      "answer generation accuracy(all): 0.9784\n",
      "wrong split: 0.0216\n"
     ]
    }
   ],
   "source": [
    "df = build_answer_range(df)"
   ]
  },
  {
   "cell_type": "code",
   "execution_count": 20,
   "metadata": {},
   "outputs": [
    {
     "data": {
      "text/html": [
       "<div>\n",
       "<style>\n",
       "    .dataframe thead tr:only-child th {\n",
       "        text-align: right;\n",
       "    }\n",
       "\n",
       "    .dataframe thead th {\n",
       "        text-align: left;\n",
       "    }\n",
       "\n",
       "    .dataframe tbody tr th {\n",
       "        vertical-align: top;\n",
       "    }\n",
       "</style>\n",
       "<table border=\"1\" class=\"dataframe\">\n",
       "  <thead>\n",
       "    <tr style=\"text-align: right;\">\n",
       "      <th></th>\n",
       "      <th>article_id</th>\n",
       "      <th>article_type</th>\n",
       "      <th>article_title</th>\n",
       "      <th>article_content</th>\n",
       "      <th>question_id</th>\n",
       "      <th>article_question</th>\n",
       "      <th>article_answer</th>\n",
       "      <th>question_type</th>\n",
       "      <th>title</th>\n",
       "      <th>content</th>\n",
       "      <th>question</th>\n",
       "      <th>answer</th>\n",
       "      <th>flag_null</th>\n",
       "      <th>shorten_content</th>\n",
       "      <th>is_in</th>\n",
       "      <th>len</th>\n",
       "      <th>answer_start</th>\n",
       "      <th>answer_end</th>\n",
       "    </tr>\n",
       "  </thead>\n",
       "  <tbody>\n",
       "    <tr>\n",
       "      <th>2104</th>\n",
       "      <td>34713</td>\n",
       "      <td>新闻</td>\n",
       "      <td>北约结束在阿富汗行动被指遗留下大量未爆炸军火</td>\n",
       "      <td>【环球网报道 记者 葛鹏】据法新社1月6日报道，北约在阿富汗军事行动的结束给阿富汗留下了...</td>\n",
       "      <td>607416f8-4060-4173-8021-8209767f70a3</td>\n",
       "      <td>阿富汗自多少年前苏联入侵以来经历了几十年战乱？</td>\n",
       "      <td>1979年</td>\n",
       "      <td>数值型问题</td>\n",
       "      <td>北约结束在阿富汗行动被指遗留下大量未爆炸军火</td>\n",
       "      <td>【环球网报道 记者 葛鹏】据法新社1月6日报道，北约在阿富汗军事行动的结束给阿富汗留下了很多...</td>\n",
       "      <td>阿富汗自多少年前苏联入侵以来经历了几十年战乱？</td>\n",
       "      <td>1979年</td>\n",
       "      <td>True</td>\n",
       "      <td>【环球网报道 记者 葛鹏】据法新社1月6日报道，北约在阿富汗军事行动的结束给阿富汗留下了很多...</td>\n",
       "      <td>True</td>\n",
       "      <td>324</td>\n",
       "      <td>-1.0</td>\n",
       "      <td>-1.0</td>\n",
       "    </tr>\n",
       "  </tbody>\n",
       "</table>\n",
       "</div>"
      ],
      "text/plain": [
       "     article_id article_type           article_title  \\\n",
       "2104      34713           新闻  北约结束在阿富汗行动被指遗留下大量未爆炸军火   \n",
       "\n",
       "                                        article_content  \\\n",
       "2104  　　【环球网报道 记者 葛鹏】据法新社1月6日报道，北约在阿富汗军事行动的结束给阿富汗留下了...   \n",
       "\n",
       "                               question_id         article_question  \\\n",
       "2104  607416f8-4060-4173-8021-8209767f70a3  阿富汗自多少年前苏联入侵以来经历了几十年战乱？   \n",
       "\n",
       "     article_answer question_type                   title  \\\n",
       "2104          1979年         数值型问题  北约结束在阿富汗行动被指遗留下大量未爆炸军火   \n",
       "\n",
       "                                                content  \\\n",
       "2104  【环球网报道 记者 葛鹏】据法新社1月6日报道，北约在阿富汗军事行动的结束给阿富汗留下了很多...   \n",
       "\n",
       "                     question answer  flag_null  \\\n",
       "2104  阿富汗自多少年前苏联入侵以来经历了几十年战乱？  1979年       True   \n",
       "\n",
       "                                        shorten_content  is_in  len  \\\n",
       "2104  【环球网报道 记者 葛鹏】据法新社1月6日报道，北约在阿富汗军事行动的结束给阿富汗留下了很多...   True  324   \n",
       "\n",
       "      answer_start  answer_end  \n",
       "2104          -1.0        -1.0  "
      ]
     },
     "execution_count": 20,
     "metadata": {},
     "output_type": "execute_result"
    }
   ],
   "source": [
    "d = df[df['answer_start'] == -1]\n",
    "d.sample()"
   ]
  },
  {
   "cell_type": "code",
   "execution_count": 13,
   "metadata": {},
   "outputs": [
    {
     "data": {
      "text/plain": [
       "[4, ['dsa'], ['xx'], 2]"
      ]
     },
     "execution_count": 13,
     "metadata": {},
     "output_type": "execute_result"
    }
   ],
   "source": [
    "\n",
    "a"
   ]
  },
  {
   "cell_type": "code",
   "execution_count": null,
   "metadata": {
    "collapsed": true
   },
   "outputs": [],
   "source": []
  },
  {
   "cell_type": "code",
   "execution_count": null,
   "metadata": {
    "collapsed": true
   },
   "outputs": [],
   "source": []
  },
  {
   "cell_type": "code",
   "execution_count": null,
   "metadata": {
    "collapsed": true
   },
   "outputs": [],
   "source": []
  },
  {
   "cell_type": "code",
   "execution_count": null,
   "metadata": {
    "collapsed": true
   },
   "outputs": [],
   "source": []
  },
  {
   "cell_type": "code",
   "execution_count": null,
   "metadata": {
    "collapsed": true
   },
   "outputs": [],
   "source": []
  }
 ],
 "metadata": {
  "kernelspec": {
   "display_name": "Python 3",
   "language": "python",
   "name": "python3"
  },
  "language_info": {
   "codemirror_mode": {
    "name": "ipython",
    "version": 3
   },
   "file_extension": ".py",
   "mimetype": "text/x-python",
   "name": "python",
   "nbconvert_exporter": "python",
   "pygments_lexer": "ipython3",
   "version": "3.6.2"
  }
 },
 "nbformat": 4,
 "nbformat_minor": 1
}
